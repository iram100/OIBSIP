{
 "cells": [
  {
   "cell_type": "code",
   "execution_count": null,
   "id": "96947964",
   "metadata": {},
   "outputs": [],
   "source": [
    "import java.util.Scanner;\n",
    "import java.util.Random;\n",
    "class Main {\n",
    "    public static void main(String[] args) {\n",
    "        Scanner scnr = new Scanner(System.in);\n",
    "        int totalScoreAllRounds=0;\n",
    "        int maximumRounds=3;\n",
    "        System.out.println(\"Welcome to Number Guessing Game!\");\n",
    "        System.out.println(\"You have \" + maximumRounds + \" rounds\");\n",
    "        System.out.println(\"Try to guess the number between 1 to 100.\");\n",
    "        System.out.println(\"You will earn more points if you guess in fewer tries\");\n",
    "        for (int i = 1; i < 4; i++) {\n",
    "            Random r = new Random();\n",
    "            System.out.println(\"\\nRound \" + i);\n",
    "            int number = r.nextInt(100) + 1;\n",
    "            int your_guess = 0;\n",
    "            int count = 0;\n",
    "            int max_attempts = 10;\n",
    "            while (your_guess != number && count < max_attempts) {\n",
    "                System.out.print(\"please enter your guess for the number i am thinking of: \");\n",
    "                your_guess = scnr.nextInt();\n",
    "                count++;\n",
    "                System.out.println(\"you guessed \" + your_guess);\n",
    "                if (your_guess < number) {\n",
    "                    System.out.println(\"low\");\n",
    "                } else if (your_guess > number) {\n",
    "                    System.out.println(\"high\");\n",
    "                } else {\n",
    "                    System.out.println(\"you guessed the right number\");\n",
    "                }\n",
    "            }\n",
    "            int roundScore;\n",
    "            if (your_guess == number) {\n",
    "                roundScore = max_attempts - count + 1;\n",
    "                System.out.println(\"You have guessed it in \" +count+\" tries\");\n",
    "                System.out.println(\"Points of this round: \"+roundScore);\n",
    "            } else {\n",
    "                roundScore = 0;\n",
    "                System.out.println(\"You could not guess it in \" + max_attempts + \" attempts.\");\n",
    "                System.out.println(\"The correct number is: \" + number);\n",
    "                System.out.println(\"Points of this round: 0\");\n",
    "            }\n",
    "            totalScoreAllRounds += roundScore;\n",
    "            System.out.println(\"total Score after Round \" + i + \": \" + totalScoreAllRounds);\n",
    "        }\n",
    "\n",
    "        System.out.println(\"Your final score is: \" + totalScoreAllRounds + \" points.\");\n",
    "    }\n",
    "}"
   ]
  }
 ],
 "metadata": {
  "language_info": {
   "name": "python"
  }
 },
 "nbformat": 4,
 "nbformat_minor": 5
}
